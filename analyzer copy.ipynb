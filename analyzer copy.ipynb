{
 "cells": [
  {
   "cell_type": "code",
   "execution_count": 1,
   "metadata": {},
   "outputs": [
    {
     "name": "stdout",
     "output_type": "stream",
     "text": [
      "1\n"
     ]
    }
   ],
   "source": [
    "# Gym stuff\n",
    "import gym\n",
    "import gym_anytrading\n",
    "from gym_anytrading.envs import StocksEnv, ForexEnv\n",
    "\n",
    "\n",
    "# Stable baselines - rl stuff\n",
    "from stable_baselines3.common.vec_env import DummyVecEnv\n",
    "from stable_baselines3 import A2C, PPO\n",
    "\n",
    "# Technicals\n",
    "from finta import TA\n",
    "\n",
    "# Processing libraries\n",
    "import numpy as np\n",
    "import pandas as pd\n",
    "from matplotlib import pyplot as plt\n",
    "\n",
    "\n",
    "# Project Modules\n",
    "from collections import deque\n",
    "from config import LOG_PATH, MODEL_PATH\n",
    "import cryptomanager as cm\n",
    "from datetime import datetime\n",
    "from IPython.display import clear_output\n",
    "import os\n",
    "import time\n",
    "from trader import trader_agent\n",
    "\n",
    "# The class that will do the work of trading\n",
    "trade_me = trader_agent()"
   ]
  },
  {
   "cell_type": "code",
   "execution_count": 2,
   "metadata": {},
   "outputs": [
    {
     "name": "stdout",
     "output_type": "stream",
     "text": [
      "start date:  1995-06-20 00:00:00\n"
     ]
    },
    {
     "data": {
      "text/html": [
       "<div>\n",
       "<style scoped>\n",
       "    .dataframe tbody tr th:only-of-type {\n",
       "        vertical-align: middle;\n",
       "    }\n",
       "\n",
       "    .dataframe tbody tr th {\n",
       "        vertical-align: top;\n",
       "    }\n",
       "\n",
       "    .dataframe thead th {\n",
       "        text-align: right;\n",
       "    }\n",
       "</style>\n",
       "<table border=\"1\" class=\"dataframe\">\n",
       "  <thead>\n",
       "    <tr style=\"text-align: right;\">\n",
       "      <th></th>\n",
       "      <th>Date</th>\n",
       "      <th>Open</th>\n",
       "      <th>High</th>\n",
       "      <th>Low</th>\n",
       "      <th>Close</th>\n",
       "      <th>Volume</th>\n",
       "      <th>Trade_Count</th>\n",
       "      <th>VWAP</th>\n",
       "    </tr>\n",
       "  </thead>\n",
       "  <tbody>\n",
       "    <tr>\n",
       "      <th>0</th>\n",
       "      <td>2020-04-08 08:09</td>\n",
       "      <td>7314.0</td>\n",
       "      <td>7314.0</td>\n",
       "      <td>7314.0</td>\n",
       "      <td>7314.0</td>\n",
       "      <td>0.0001</td>\n",
       "      <td>1.0</td>\n",
       "      <td>7314.000000</td>\n",
       "    </tr>\n",
       "    <tr>\n",
       "      <th>1</th>\n",
       "      <td>2020-04-14 06:31</td>\n",
       "      <td>7101.5</td>\n",
       "      <td>7101.5</td>\n",
       "      <td>7101.5</td>\n",
       "      <td>7101.5</td>\n",
       "      <td>0.0001</td>\n",
       "      <td>1.0</td>\n",
       "      <td>7101.500000</td>\n",
       "    </tr>\n",
       "    <tr>\n",
       "      <th>2</th>\n",
       "      <td>2020-04-14 07:55</td>\n",
       "      <td>7100.0</td>\n",
       "      <td>7100.0</td>\n",
       "      <td>7100.0</td>\n",
       "      <td>7100.0</td>\n",
       "      <td>0.0001</td>\n",
       "      <td>1.0</td>\n",
       "      <td>7100.000000</td>\n",
       "    </tr>\n",
       "    <tr>\n",
       "      <th>3</th>\n",
       "      <td>2020-04-22 23:29</td>\n",
       "      <td>7118.5</td>\n",
       "      <td>7118.5</td>\n",
       "      <td>7118.5</td>\n",
       "      <td>7118.5</td>\n",
       "      <td>0.0001</td>\n",
       "      <td>1.0</td>\n",
       "      <td>7118.500000</td>\n",
       "    </tr>\n",
       "    <tr>\n",
       "      <th>4</th>\n",
       "      <td>2020-04-28 12:28</td>\n",
       "      <td>7748.5</td>\n",
       "      <td>7748.5</td>\n",
       "      <td>7748.5</td>\n",
       "      <td>7748.5</td>\n",
       "      <td>0.0003</td>\n",
       "      <td>1.0</td>\n",
       "      <td>7748.500000</td>\n",
       "    </tr>\n",
       "    <tr>\n",
       "      <th>...</th>\n",
       "      <td>...</td>\n",
       "      <td>...</td>\n",
       "      <td>...</td>\n",
       "      <td>...</td>\n",
       "      <td>...</td>\n",
       "      <td>...</td>\n",
       "      <td>...</td>\n",
       "      <td>...</td>\n",
       "    </tr>\n",
       "    <tr>\n",
       "      <th>582693</th>\n",
       "      <td>2022-11-05 13:59</td>\n",
       "      <td>21277.0</td>\n",
       "      <td>21277.0</td>\n",
       "      <td>21272.0</td>\n",
       "      <td>21272.0</td>\n",
       "      <td>0.0003</td>\n",
       "      <td>3.0</td>\n",
       "      <td>21275.333333</td>\n",
       "    </tr>\n",
       "    <tr>\n",
       "      <th>582694</th>\n",
       "      <td>2022-11-05 14:00</td>\n",
       "      <td>21272.0</td>\n",
       "      <td>21272.0</td>\n",
       "      <td>21271.0</td>\n",
       "      <td>21271.0</td>\n",
       "      <td>0.0003</td>\n",
       "      <td>3.0</td>\n",
       "      <td>21271.333333</td>\n",
       "    </tr>\n",
       "    <tr>\n",
       "      <th>582695</th>\n",
       "      <td>2022-11-05 14:01</td>\n",
       "      <td>21272.0</td>\n",
       "      <td>21286.0</td>\n",
       "      <td>21272.0</td>\n",
       "      <td>21286.0</td>\n",
       "      <td>3.6011</td>\n",
       "      <td>21.0</td>\n",
       "      <td>21278.584405</td>\n",
       "    </tr>\n",
       "    <tr>\n",
       "      <th>582696</th>\n",
       "      <td>2022-11-05 14:02</td>\n",
       "      <td>21289.0</td>\n",
       "      <td>21300.0</td>\n",
       "      <td>21289.0</td>\n",
       "      <td>21300.0</td>\n",
       "      <td>0.3317</td>\n",
       "      <td>6.0</td>\n",
       "      <td>21299.085620</td>\n",
       "    </tr>\n",
       "    <tr>\n",
       "      <th>582697</th>\n",
       "      <td>2022-11-05 14:03</td>\n",
       "      <td>21304.0</td>\n",
       "      <td>21311.0</td>\n",
       "      <td>21304.0</td>\n",
       "      <td>21311.0</td>\n",
       "      <td>0.1509</td>\n",
       "      <td>4.0</td>\n",
       "      <td>21310.968854</td>\n",
       "    </tr>\n",
       "  </tbody>\n",
       "</table>\n",
       "<p>582698 rows × 8 columns</p>\n",
       "</div>"
      ],
      "text/plain": [
       "                    Date     Open     High      Low    Close  Volume  \\\n",
       "0       2020-04-08 08:09   7314.0   7314.0   7314.0   7314.0  0.0001   \n",
       "1       2020-04-14 06:31   7101.5   7101.5   7101.5   7101.5  0.0001   \n",
       "2       2020-04-14 07:55   7100.0   7100.0   7100.0   7100.0  0.0001   \n",
       "3       2020-04-22 23:29   7118.5   7118.5   7118.5   7118.5  0.0001   \n",
       "4       2020-04-28 12:28   7748.5   7748.5   7748.5   7748.5  0.0003   \n",
       "...                  ...      ...      ...      ...      ...     ...   \n",
       "582693  2022-11-05 13:59  21277.0  21277.0  21272.0  21272.0  0.0003   \n",
       "582694  2022-11-05 14:00  21272.0  21272.0  21271.0  21271.0  0.0003   \n",
       "582695  2022-11-05 14:01  21272.0  21286.0  21272.0  21286.0  3.6011   \n",
       "582696  2022-11-05 14:02  21289.0  21300.0  21289.0  21300.0  0.3317   \n",
       "582697  2022-11-05 14:03  21304.0  21311.0  21304.0  21311.0  0.1509   \n",
       "\n",
       "        Trade_Count          VWAP  \n",
       "0               1.0   7314.000000  \n",
       "1               1.0   7101.500000  \n",
       "2               1.0   7100.000000  \n",
       "3               1.0   7118.500000  \n",
       "4               1.0   7748.500000  \n",
       "...             ...           ...  \n",
       "582693          3.0  21275.333333  \n",
       "582694          3.0  21271.333333  \n",
       "582695         21.0  21278.584405  \n",
       "582696          6.0  21299.085620  \n",
       "582697          4.0  21310.968854  \n",
       "\n",
       "[582698 rows x 8 columns]"
      ]
     },
     "execution_count": 2,
     "metadata": {},
     "output_type": "execute_result"
    }
   ],
   "source": [
    "# Initial DataFrame to train on\n",
    "df = cm.historical_data_df(days_delta=10000)\n",
    "df"
   ]
  },
  {
   "cell_type": "code",
   "execution_count": 3,
   "metadata": {},
   "outputs": [
    {
     "data": {
      "text/html": [
       "<div>\n",
       "<style scoped>\n",
       "    .dataframe tbody tr th:only-of-type {\n",
       "        vertical-align: middle;\n",
       "    }\n",
       "\n",
       "    .dataframe tbody tr th {\n",
       "        vertical-align: top;\n",
       "    }\n",
       "\n",
       "    .dataframe thead th {\n",
       "        text-align: right;\n",
       "    }\n",
       "</style>\n",
       "<table border=\"1\" class=\"dataframe\">\n",
       "  <thead>\n",
       "    <tr style=\"text-align: right;\">\n",
       "      <th></th>\n",
       "      <th>Date</th>\n",
       "      <th>Open</th>\n",
       "      <th>High</th>\n",
       "      <th>Low</th>\n",
       "      <th>Close</th>\n",
       "      <th>Volume</th>\n",
       "      <th>Trade_Count</th>\n",
       "      <th>VWAP</th>\n",
       "    </tr>\n",
       "  </thead>\n",
       "  <tbody>\n",
       "    <tr>\n",
       "      <th>582598</th>\n",
       "      <td>2022-11-05 12:13</td>\n",
       "      <td>21371.0</td>\n",
       "      <td>21371.0</td>\n",
       "      <td>21371.0</td>\n",
       "      <td>21371.0</td>\n",
       "      <td>0.0001</td>\n",
       "      <td>1.0</td>\n",
       "      <td>21371.000000</td>\n",
       "    </tr>\n",
       "    <tr>\n",
       "      <th>582599</th>\n",
       "      <td>2022-11-05 12:14</td>\n",
       "      <td>21371.0</td>\n",
       "      <td>21372.0</td>\n",
       "      <td>21369.0</td>\n",
       "      <td>21372.0</td>\n",
       "      <td>0.0108</td>\n",
       "      <td>7.0</td>\n",
       "      <td>21370.953704</td>\n",
       "    </tr>\n",
       "    <tr>\n",
       "      <th>582600</th>\n",
       "      <td>2022-11-05 12:15</td>\n",
       "      <td>21371.0</td>\n",
       "      <td>21372.0</td>\n",
       "      <td>21371.0</td>\n",
       "      <td>21371.0</td>\n",
       "      <td>0.0023</td>\n",
       "      <td>5.0</td>\n",
       "      <td>21371.478261</td>\n",
       "    </tr>\n",
       "    <tr>\n",
       "      <th>582601</th>\n",
       "      <td>2022-11-05 12:16</td>\n",
       "      <td>21372.0</td>\n",
       "      <td>21376.0</td>\n",
       "      <td>21372.0</td>\n",
       "      <td>21376.0</td>\n",
       "      <td>0.0051</td>\n",
       "      <td>7.0</td>\n",
       "      <td>21374.254902</td>\n",
       "    </tr>\n",
       "    <tr>\n",
       "      <th>582602</th>\n",
       "      <td>2022-11-05 12:17</td>\n",
       "      <td>21375.0</td>\n",
       "      <td>21375.0</td>\n",
       "      <td>21369.0</td>\n",
       "      <td>21369.0</td>\n",
       "      <td>0.0046</td>\n",
       "      <td>4.0</td>\n",
       "      <td>21372.652174</td>\n",
       "    </tr>\n",
       "    <tr>\n",
       "      <th>...</th>\n",
       "      <td>...</td>\n",
       "      <td>...</td>\n",
       "      <td>...</td>\n",
       "      <td>...</td>\n",
       "      <td>...</td>\n",
       "      <td>...</td>\n",
       "      <td>...</td>\n",
       "      <td>...</td>\n",
       "    </tr>\n",
       "    <tr>\n",
       "      <th>582693</th>\n",
       "      <td>2022-11-05 13:59</td>\n",
       "      <td>21277.0</td>\n",
       "      <td>21277.0</td>\n",
       "      <td>21272.0</td>\n",
       "      <td>21272.0</td>\n",
       "      <td>0.0003</td>\n",
       "      <td>3.0</td>\n",
       "      <td>21275.333333</td>\n",
       "    </tr>\n",
       "    <tr>\n",
       "      <th>582694</th>\n",
       "      <td>2022-11-05 14:00</td>\n",
       "      <td>21272.0</td>\n",
       "      <td>21272.0</td>\n",
       "      <td>21271.0</td>\n",
       "      <td>21271.0</td>\n",
       "      <td>0.0003</td>\n",
       "      <td>3.0</td>\n",
       "      <td>21271.333333</td>\n",
       "    </tr>\n",
       "    <tr>\n",
       "      <th>582695</th>\n",
       "      <td>2022-11-05 14:01</td>\n",
       "      <td>21272.0</td>\n",
       "      <td>21286.0</td>\n",
       "      <td>21272.0</td>\n",
       "      <td>21286.0</td>\n",
       "      <td>3.6011</td>\n",
       "      <td>21.0</td>\n",
       "      <td>21278.584405</td>\n",
       "    </tr>\n",
       "    <tr>\n",
       "      <th>582696</th>\n",
       "      <td>2022-11-05 14:02</td>\n",
       "      <td>21289.0</td>\n",
       "      <td>21300.0</td>\n",
       "      <td>21289.0</td>\n",
       "      <td>21300.0</td>\n",
       "      <td>0.3317</td>\n",
       "      <td>6.0</td>\n",
       "      <td>21299.085620</td>\n",
       "    </tr>\n",
       "    <tr>\n",
       "      <th>582697</th>\n",
       "      <td>2022-11-05 14:03</td>\n",
       "      <td>21304.0</td>\n",
       "      <td>21311.0</td>\n",
       "      <td>21304.0</td>\n",
       "      <td>21311.0</td>\n",
       "      <td>0.1509</td>\n",
       "      <td>4.0</td>\n",
       "      <td>21310.968854</td>\n",
       "    </tr>\n",
       "  </tbody>\n",
       "</table>\n",
       "<p>100 rows × 8 columns</p>\n",
       "</div>"
      ],
      "text/plain": [
       "                    Date     Open     High      Low    Close  Volume  \\\n",
       "582598  2022-11-05 12:13  21371.0  21371.0  21371.0  21371.0  0.0001   \n",
       "582599  2022-11-05 12:14  21371.0  21372.0  21369.0  21372.0  0.0108   \n",
       "582600  2022-11-05 12:15  21371.0  21372.0  21371.0  21371.0  0.0023   \n",
       "582601  2022-11-05 12:16  21372.0  21376.0  21372.0  21376.0  0.0051   \n",
       "582602  2022-11-05 12:17  21375.0  21375.0  21369.0  21369.0  0.0046   \n",
       "...                  ...      ...      ...      ...      ...     ...   \n",
       "582693  2022-11-05 13:59  21277.0  21277.0  21272.0  21272.0  0.0003   \n",
       "582694  2022-11-05 14:00  21272.0  21272.0  21271.0  21271.0  0.0003   \n",
       "582695  2022-11-05 14:01  21272.0  21286.0  21272.0  21286.0  3.6011   \n",
       "582696  2022-11-05 14:02  21289.0  21300.0  21289.0  21300.0  0.3317   \n",
       "582697  2022-11-05 14:03  21304.0  21311.0  21304.0  21311.0  0.1509   \n",
       "\n",
       "        Trade_Count          VWAP  \n",
       "582598          1.0  21371.000000  \n",
       "582599          7.0  21370.953704  \n",
       "582600          5.0  21371.478261  \n",
       "582601          7.0  21374.254902  \n",
       "582602          4.0  21372.652174  \n",
       "...             ...           ...  \n",
       "582693          3.0  21275.333333  \n",
       "582694          3.0  21271.333333  \n",
       "582695         21.0  21278.584405  \n",
       "582696          6.0  21299.085620  \n",
       "582697          4.0  21310.968854  \n",
       "\n",
       "[100 rows x 8 columns]"
      ]
     },
     "execution_count": 3,
     "metadata": {},
     "output_type": "execute_result"
    }
   ],
   "source": [
    "# The range that we want to train on each interval\n",
    "window_size = 100\n",
    "lower_bound = len(df) - window_size\n",
    "upper_bound = len(df)\n",
    "df[lower_bound:upper_bound]"
   ]
  },
  {
   "cell_type": "code",
   "execution_count": 4,
   "metadata": {},
   "outputs": [
    {
     "data": {
      "text/html": [
       "<div>\n",
       "<style scoped>\n",
       "    .dataframe tbody tr th:only-of-type {\n",
       "        vertical-align: middle;\n",
       "    }\n",
       "\n",
       "    .dataframe tbody tr th {\n",
       "        vertical-align: top;\n",
       "    }\n",
       "\n",
       "    .dataframe thead th {\n",
       "        text-align: right;\n",
       "    }\n",
       "</style>\n",
       "<table border=\"1\" class=\"dataframe\">\n",
       "  <thead>\n",
       "    <tr style=\"text-align: right;\">\n",
       "      <th></th>\n",
       "      <th>Date</th>\n",
       "      <th>Open</th>\n",
       "      <th>High</th>\n",
       "      <th>Low</th>\n",
       "      <th>Close</th>\n",
       "      <th>Volume</th>\n",
       "      <th>Trade_Count</th>\n",
       "      <th>VWAP</th>\n",
       "      <th>OBV</th>\n",
       "      <th>EMA</th>\n",
       "      <th>...</th>\n",
       "      <th>s1</th>\n",
       "      <th>s2</th>\n",
       "      <th>s3</th>\n",
       "      <th>s4</th>\n",
       "      <th>r1</th>\n",
       "      <th>r2</th>\n",
       "      <th>r3</th>\n",
       "      <th>r4</th>\n",
       "      <th>MACD</th>\n",
       "      <th>SIGNAL</th>\n",
       "    </tr>\n",
       "  </thead>\n",
       "  <tbody>\n",
       "    <tr>\n",
       "      <th>0</th>\n",
       "      <td>2020-04-08 08:09</td>\n",
       "      <td>7314.0</td>\n",
       "      <td>7314.0</td>\n",
       "      <td>7314.0</td>\n",
       "      <td>7314.0</td>\n",
       "      <td>0.0001</td>\n",
       "      <td>1.0</td>\n",
       "      <td>7314.0</td>\n",
       "      <td>0.0000</td>\n",
       "      <td>7314.000000</td>\n",
       "      <td>...</td>\n",
       "      <td>0.0</td>\n",
       "      <td>0.0</td>\n",
       "      <td>0.0</td>\n",
       "      <td>0.0</td>\n",
       "      <td>0.0</td>\n",
       "      <td>0.0</td>\n",
       "      <td>0.0</td>\n",
       "      <td>0.0</td>\n",
       "      <td>0.000000</td>\n",
       "      <td>0.000000</td>\n",
       "    </tr>\n",
       "    <tr>\n",
       "      <th>1</th>\n",
       "      <td>2020-04-14 06:31</td>\n",
       "      <td>7101.5</td>\n",
       "      <td>7101.5</td>\n",
       "      <td>7101.5</td>\n",
       "      <td>7101.5</td>\n",
       "      <td>0.0001</td>\n",
       "      <td>1.0</td>\n",
       "      <td>7101.5</td>\n",
       "      <td>-0.0001</td>\n",
       "      <td>7207.218750</td>\n",
       "      <td>...</td>\n",
       "      <td>7314.0</td>\n",
       "      <td>7314.0</td>\n",
       "      <td>7314.0</td>\n",
       "      <td>7314.0</td>\n",
       "      <td>7314.0</td>\n",
       "      <td>7314.0</td>\n",
       "      <td>7314.0</td>\n",
       "      <td>7314.0</td>\n",
       "      <td>-4.767628</td>\n",
       "      <td>-2.648682</td>\n",
       "    </tr>\n",
       "    <tr>\n",
       "      <th>2</th>\n",
       "      <td>2020-04-14 07:55</td>\n",
       "      <td>7100.0</td>\n",
       "      <td>7100.0</td>\n",
       "      <td>7100.0</td>\n",
       "      <td>7100.0</td>\n",
       "      <td>0.0001</td>\n",
       "      <td>1.0</td>\n",
       "      <td>7100.0</td>\n",
       "      <td>-0.0002</td>\n",
       "      <td>7171.121178</td>\n",
       "      <td>...</td>\n",
       "      <td>7101.5</td>\n",
       "      <td>7101.5</td>\n",
       "      <td>7101.5</td>\n",
       "      <td>7101.5</td>\n",
       "      <td>7101.5</td>\n",
       "      <td>7101.5</td>\n",
       "      <td>7101.5</td>\n",
       "      <td>7101.5</td>\n",
       "      <td>-6.121420</td>\n",
       "      <td>-4.071935</td>\n",
       "    </tr>\n",
       "    <tr>\n",
       "      <th>3</th>\n",
       "      <td>2020-04-22 23:29</td>\n",
       "      <td>7118.5</td>\n",
       "      <td>7118.5</td>\n",
       "      <td>7118.5</td>\n",
       "      <td>7118.5</td>\n",
       "      <td>0.0001</td>\n",
       "      <td>1.0</td>\n",
       "      <td>7118.5</td>\n",
       "      <td>-0.0001</td>\n",
       "      <td>7157.767900</td>\n",
       "      <td>...</td>\n",
       "      <td>7100.0</td>\n",
       "      <td>7100.0</td>\n",
       "      <td>7100.0</td>\n",
       "      <td>7100.0</td>\n",
       "      <td>7100.0</td>\n",
       "      <td>7100.0</td>\n",
       "      <td>7100.0</td>\n",
       "      <td>7100.0</td>\n",
       "      <td>-5.919194</td>\n",
       "      <td>-4.697701</td>\n",
       "    </tr>\n",
       "    <tr>\n",
       "      <th>4</th>\n",
       "      <td>2020-04-28 12:28</td>\n",
       "      <td>7748.5</td>\n",
       "      <td>7748.5</td>\n",
       "      <td>7748.5</td>\n",
       "      <td>7748.5</td>\n",
       "      <td>0.0003</td>\n",
       "      <td>1.0</td>\n",
       "      <td>7748.5</td>\n",
       "      <td>0.0002</td>\n",
       "      <td>7278.289003</td>\n",
       "      <td>...</td>\n",
       "      <td>7118.5</td>\n",
       "      <td>7118.5</td>\n",
       "      <td>7118.5</td>\n",
       "      <td>7118.5</td>\n",
       "      <td>7118.5</td>\n",
       "      <td>7118.5</td>\n",
       "      <td>7118.5</td>\n",
       "      <td>7118.5</td>\n",
       "      <td>19.384455</td>\n",
       "      <td>2.466196</td>\n",
       "    </tr>\n",
       "  </tbody>\n",
       "</table>\n",
       "<p>5 rows × 22 columns</p>\n",
       "</div>"
      ],
      "text/plain": [
       "               Date    Open    High     Low   Close  Volume  Trade_Count  \\\n",
       "0  2020-04-08 08:09  7314.0  7314.0  7314.0  7314.0  0.0001          1.0   \n",
       "1  2020-04-14 06:31  7101.5  7101.5  7101.5  7101.5  0.0001          1.0   \n",
       "2  2020-04-14 07:55  7100.0  7100.0  7100.0  7100.0  0.0001          1.0   \n",
       "3  2020-04-22 23:29  7118.5  7118.5  7118.5  7118.5  0.0001          1.0   \n",
       "4  2020-04-28 12:28  7748.5  7748.5  7748.5  7748.5  0.0003          1.0   \n",
       "\n",
       "     VWAP     OBV          EMA  ...      s1      s2      s3      s4      r1  \\\n",
       "0  7314.0  0.0000  7314.000000  ...     0.0     0.0     0.0     0.0     0.0   \n",
       "1  7101.5 -0.0001  7207.218750  ...  7314.0  7314.0  7314.0  7314.0  7314.0   \n",
       "2  7100.0 -0.0002  7171.121178  ...  7101.5  7101.5  7101.5  7101.5  7101.5   \n",
       "3  7118.5 -0.0001  7157.767900  ...  7100.0  7100.0  7100.0  7100.0  7100.0   \n",
       "4  7748.5  0.0002  7278.289003  ...  7118.5  7118.5  7118.5  7118.5  7118.5   \n",
       "\n",
       "       r2      r3      r4       MACD    SIGNAL  \n",
       "0     0.0     0.0     0.0   0.000000  0.000000  \n",
       "1  7314.0  7314.0  7314.0  -4.767628 -2.648682  \n",
       "2  7101.5  7101.5  7101.5  -6.121420 -4.071935  \n",
       "3  7100.0  7100.0  7100.0  -5.919194 -4.697701  \n",
       "4  7118.5  7118.5  7118.5  19.384455  2.466196  \n",
       "\n",
       "[5 rows x 22 columns]"
      ]
     },
     "execution_count": 4,
     "metadata": {},
     "output_type": "execute_result"
    }
   ],
   "source": [
    "# Adding technicals to DataFrame\n",
    "\n",
    "def add_columns_df(df):\n",
    "    df['OBV'] = TA.OBV(df) # unsure if I want to use this yet or not\n",
    "    df['EMA'] = TA.EMA(df, 200)\n",
    "    df['RSI'] = TA.RSI(df)\n",
    "    df  = df.join(TA.PIVOT_FIB(df))\n",
    "    df = df.join(TA.MACD(df))\n",
    "    df.fillna(0, inplace=True)\n",
    "    return df\n",
    "    \n",
    "df = add_columns_df(df)\n",
    "df.head()"
   ]
  },
  {
   "cell_type": "code",
   "execution_count": 5,
   "metadata": {},
   "outputs": [],
   "source": [
    "# Adding metrics to Env\n",
    "\n",
    "def add_signals(env, df = df):\n",
    "    start = env.frame_bound[0] - env.window_size\n",
    "    end = env.frame_bound[1]\n",
    "    prices = env.df.loc[:, 'Low'].to_numpy()[start:end]\n",
    "    keys= []\n",
    "    for key in df.columns:\n",
    "        keys.append(key)\n",
    "    signal_features = env.df.loc[:, [key for key in keys[1:]]].to_numpy()[start:end]\n",
    "    return prices, signal_features"
   ]
  },
  {
   "cell_type": "code",
   "execution_count": 6,
   "metadata": {},
   "outputs": [],
   "source": [
    "class Cypto_Env(StocksEnv):\n",
    "    _process_data = add_signals\n",
    "    "
   ]
  },
  {
   "cell_type": "code",
   "execution_count": 7,
   "metadata": {},
   "outputs": [],
   "source": [
    "# The initial training Env before we swtich to up-to-date Env\n",
    "\n",
    "env2 = Cypto_Env(df=df, window_size=window_size, frame_bound=(lower_bound,upper_bound))\n",
    "env_maker = lambda: env2\n",
    "env = DummyVecEnv([env_maker])"
   ]
  },
  {
   "cell_type": "code",
   "execution_count": 8,
   "metadata": {},
   "outputs": [
    {
     "name": "stdout",
     "output_type": "stream",
     "text": [
      "Using cpu device\n",
      "Logging to ./data\\log\\A2C_1\n"
     ]
    },
    {
     "data": {
      "application/vnd.jupyter.widget-view+json": {
       "model_id": "b7f2bedfc75f4cb99e3e4731becb9a50",
       "version_major": 2,
       "version_minor": 0
      },
      "text/plain": [
       "Output()"
      ]
     },
     "metadata": {},
     "output_type": "display_data"
    },
    {
     "name": "stdout",
     "output_type": "stream",
     "text": [
      "------------------------------------\n",
      "| time/                 |          |\n",
      "|    fps                | 127      |\n",
      "|    iterations         | 100      |\n",
      "|    time_elapsed       | 3        |\n",
      "|    total_timesteps    | 500      |\n",
      "| train/                |          |\n",
      "|    entropy_loss       | -0.689   |\n",
      "|    explained_variance | 0.0122   |\n",
      "|    learning_rate      | 0.0007   |\n",
      "|    n_updates          | 99       |\n",
      "|    policy_loss        | -1.61    |\n",
      "|    value_loss         | 13.8     |\n",
      "------------------------------------\n"
     ]
    },
    {
     "name": "stdout",
     "output_type": "stream",
     "text": [
      "------------------------------------\n",
      "| time/                 |          |\n",
      "|    fps                | 208      |\n",
      "|    iterations         | 200      |\n",
      "|    time_elapsed       | 4        |\n",
      "|    total_timesteps    | 1000     |\n",
      "| train/                |          |\n",
      "|    entropy_loss       | -0.682   |\n",
      "|    explained_variance | -15.7    |\n",
      "|    learning_rate      | 0.0007   |\n",
      "|    n_updates          | 199      |\n",
      "|    policy_loss        | -0.0366  |\n",
      "|    value_loss         | 0.00795  |\n",
      "------------------------------------\n"
     ]
    },
    {
     "data": {
      "text/html": [
       "<pre style=\"white-space:pre;overflow-x:auto;line-height:normal;font-family:Menlo,'DejaVu Sans Mono',consolas,'Courier New',monospace\"></pre>\n"
      ],
      "text/plain": []
     },
     "metadata": {},
     "output_type": "display_data"
    },
    {
     "data": {
      "text/html": [
       "<pre style=\"white-space:pre;overflow-x:auto;line-height:normal;font-family:Menlo,'DejaVu Sans Mono',consolas,'Courier New',monospace\">\n",
       "</pre>\n"
      ],
      "text/plain": [
       "\n"
      ]
     },
     "metadata": {},
     "output_type": "display_data"
    },
    {
     "name": "stdout",
     "output_type": "stream",
     "text": [
      "0\n",
      "Logging to ./data\\log\\A2C_2\n"
     ]
    },
    {
     "data": {
      "application/vnd.jupyter.widget-view+json": {
       "model_id": "39ed5ea4c36241128c04a374d99611e5",
       "version_major": 2,
       "version_minor": 0
      },
      "text/plain": [
       "Output()"
      ]
     },
     "metadata": {},
     "output_type": "display_data"
    },
    {
     "name": "stdout",
     "output_type": "stream",
     "text": [
      "-------------------------------------\n",
      "| time/                 |           |\n",
      "|    fps                | 335       |\n",
      "|    iterations         | 100       |\n",
      "|    time_elapsed       | 1         |\n",
      "|    total_timesteps    | 500       |\n",
      "| train/                |           |\n",
      "|    entropy_loss       | -0.334    |\n",
      "|    explained_variance | -6.65e+11 |\n",
      "|    learning_rate      | 0.0007    |\n",
      "|    n_updates          | 299       |\n",
      "|    policy_loss        | 0.126     |\n",
      "|    value_loss         | 0.0513    |\n",
      "-------------------------------------\n"
     ]
    },
    {
     "name": "stdout",
     "output_type": "stream",
     "text": [
      "------------------------------------\n",
      "| time/                 |          |\n",
      "|    fps                | 298      |\n",
      "|    iterations         | 200      |\n",
      "|    time_elapsed       | 3        |\n",
      "|    total_timesteps    | 1000     |\n",
      "| train/                |          |\n",
      "|    entropy_loss       | -0.41    |\n",
      "|    explained_variance | -118     |\n",
      "|    learning_rate      | 0.0007   |\n",
      "|    n_updates          | 399      |\n",
      "|    policy_loss        | -0.0134  |\n",
      "|    value_loss         | 0.0079   |\n",
      "------------------------------------\n"
     ]
    },
    {
     "data": {
      "text/html": [
       "<pre style=\"white-space:pre;overflow-x:auto;line-height:normal;font-family:Menlo,'DejaVu Sans Mono',consolas,'Courier New',monospace\"></pre>\n"
      ],
      "text/plain": []
     },
     "metadata": {},
     "output_type": "display_data"
    },
    {
     "data": {
      "text/html": [
       "<pre style=\"white-space:pre;overflow-x:auto;line-height:normal;font-family:Menlo,'DejaVu Sans Mono',consolas,'Courier New',monospace\">\n",
       "</pre>\n"
      ],
      "text/plain": [
       "\n"
      ]
     },
     "metadata": {},
     "output_type": "display_data"
    },
    {
     "name": "stdout",
     "output_type": "stream",
     "text": [
      "1\n",
      "Logging to ./data\\log\\A2C_3\n"
     ]
    },
    {
     "data": {
      "application/vnd.jupyter.widget-view+json": {
       "model_id": "b03ffcb697c348c3b213ca13b6c572a5",
       "version_major": 2,
       "version_minor": 0
      },
      "text/plain": [
       "Output()"
      ]
     },
     "metadata": {},
     "output_type": "display_data"
    },
    {
     "name": "stdout",
     "output_type": "stream",
     "text": [
      "-------------------------------------\n",
      "| time/                 |           |\n",
      "|    fps                | 324       |\n",
      "|    iterations         | 100       |\n",
      "|    time_elapsed       | 1         |\n",
      "|    total_timesteps    | 500       |\n",
      "| train/                |           |\n",
      "|    entropy_loss       | -0.682    |\n",
      "|    explained_variance | -3.74e+12 |\n",
      "|    learning_rate      | 0.0007    |\n",
      "|    n_updates          | 499       |\n",
      "|    policy_loss        | -0.0885   |\n",
      "|    value_loss         | 0.0185    |\n",
      "-------------------------------------\n"
     ]
    },
    {
     "name": "stdout",
     "output_type": "stream",
     "text": [
      "------------------------------------\n",
      "| time/                 |          |\n",
      "|    fps                | 291      |\n",
      "|    iterations         | 200      |\n",
      "|    time_elapsed       | 3        |\n",
      "|    total_timesteps    | 1000     |\n",
      "| train/                |          |\n",
      "|    entropy_loss       | -0.405   |\n",
      "|    explained_variance | 0.00184  |\n",
      "|    learning_rate      | 0.0007   |\n",
      "|    n_updates          | 599      |\n",
      "|    policy_loss        | -1.5     |\n",
      "|    value_loss         | 7.27     |\n",
      "------------------------------------\n"
     ]
    },
    {
     "data": {
      "text/html": [
       "<pre style=\"white-space:pre;overflow-x:auto;line-height:normal;font-family:Menlo,'DejaVu Sans Mono',consolas,'Courier New',monospace\"></pre>\n"
      ],
      "text/plain": []
     },
     "metadata": {},
     "output_type": "display_data"
    },
    {
     "data": {
      "text/html": [
       "<pre style=\"white-space:pre;overflow-x:auto;line-height:normal;font-family:Menlo,'DejaVu Sans Mono',consolas,'Courier New',monospace\">\n",
       "</pre>\n"
      ],
      "text/plain": [
       "\n"
      ]
     },
     "metadata": {},
     "output_type": "display_data"
    },
    {
     "name": "stdout",
     "output_type": "stream",
     "text": [
      "2\n",
      "Logging to ./data\\log\\A2C_4\n"
     ]
    },
    {
     "data": {
      "application/vnd.jupyter.widget-view+json": {
       "model_id": "c76b39302af1437a8bd597d684394be0",
       "version_major": 2,
       "version_minor": 0
      },
      "text/plain": [
       "Output()"
      ]
     },
     "metadata": {},
     "output_type": "display_data"
    },
    {
     "name": "stdout",
     "output_type": "stream",
     "text": [
      "------------------------------------\n",
      "| time/                 |          |\n",
      "|    fps                | 350      |\n",
      "|    iterations         | 100      |\n",
      "|    time_elapsed       | 1        |\n",
      "|    total_timesteps    | 500      |\n",
      "| train/                |          |\n",
      "|    entropy_loss       | -0.318   |\n",
      "|    explained_variance | -0.00787 |\n",
      "|    learning_rate      | 0.0007   |\n",
      "|    n_updates          | 699      |\n",
      "|    policy_loss        | 0.582    |\n",
      "|    value_loss         | 0.76     |\n",
      "------------------------------------\n"
     ]
    },
    {
     "name": "stdout",
     "output_type": "stream",
     "text": [
      "------------------------------------\n",
      "| time/                 |          |\n",
      "|    fps                | 311      |\n",
      "|    iterations         | 200      |\n",
      "|    time_elapsed       | 3        |\n",
      "|    total_timesteps    | 1000     |\n",
      "| train/                |          |\n",
      "|    entropy_loss       | -0.248   |\n",
      "|    explained_variance | -2.28    |\n",
      "|    learning_rate      | 0.0007   |\n",
      "|    n_updates          | 799      |\n",
      "|    policy_loss        | -0.00326 |\n",
      "|    value_loss         | 0.00219  |\n",
      "------------------------------------\n"
     ]
    },
    {
     "data": {
      "text/html": [
       "<pre style=\"white-space:pre;overflow-x:auto;line-height:normal;font-family:Menlo,'DejaVu Sans Mono',consolas,'Courier New',monospace\"></pre>\n"
      ],
      "text/plain": []
     },
     "metadata": {},
     "output_type": "display_data"
    },
    {
     "data": {
      "text/html": [
       "<pre style=\"white-space:pre;overflow-x:auto;line-height:normal;font-family:Menlo,'DejaVu Sans Mono',consolas,'Courier New',monospace\">\n",
       "</pre>\n"
      ],
      "text/plain": [
       "\n"
      ]
     },
     "metadata": {},
     "output_type": "display_data"
    },
    {
     "name": "stdout",
     "output_type": "stream",
     "text": [
      "3\n",
      "Logging to ./data\\log\\A2C_5\n"
     ]
    },
    {
     "data": {
      "application/vnd.jupyter.widget-view+json": {
       "model_id": "201e8533c68a436cbcd3800212552758",
       "version_major": 2,
       "version_minor": 0
      },
      "text/plain": [
       "Output()"
      ]
     },
     "metadata": {},
     "output_type": "display_data"
    },
    {
     "name": "stdout",
     "output_type": "stream",
     "text": [
      "-------------------------------------\n",
      "| time/                 |           |\n",
      "|    fps                | 394       |\n",
      "|    iterations         | 100       |\n",
      "|    time_elapsed       | 1         |\n",
      "|    total_timesteps    | 500       |\n",
      "| train/                |           |\n",
      "|    entropy_loss       | -0.131    |\n",
      "|    explained_variance | -1.02e+14 |\n",
      "|    learning_rate      | 0.0007    |\n",
      "|    n_updates          | 899       |\n",
      "|    policy_loss        | 0.0078    |\n",
      "|    value_loss         | 0.000184  |\n",
      "-------------------------------------\n"
     ]
    },
    {
     "name": "stdout",
     "output_type": "stream",
     "text": [
      "------------------------------------\n",
      "| time/                 |          |\n",
      "|    fps                | 267      |\n",
      "|    iterations         | 200      |\n",
      "|    time_elapsed       | 3        |\n",
      "|    total_timesteps    | 1000     |\n",
      "| train/                |          |\n",
      "|    entropy_loss       | -0.0737  |\n",
      "|    explained_variance | -10.9    |\n",
      "|    learning_rate      | 0.0007   |\n",
      "|    n_updates          | 999      |\n",
      "|    policy_loss        | 0.000187 |\n",
      "|    value_loss         | 0.000392 |\n",
      "------------------------------------\n"
     ]
    },
    {
     "data": {
      "text/html": [
       "<pre style=\"white-space:pre;overflow-x:auto;line-height:normal;font-family:Menlo,'DejaVu Sans Mono',consolas,'Courier New',monospace\"></pre>\n"
      ],
      "text/plain": []
     },
     "metadata": {},
     "output_type": "display_data"
    },
    {
     "data": {
      "text/html": [
       "<pre style=\"white-space:pre;overflow-x:auto;line-height:normal;font-family:Menlo,'DejaVu Sans Mono',consolas,'Courier New',monospace\">\n",
       "</pre>\n"
      ],
      "text/plain": [
       "\n"
      ]
     },
     "metadata": {},
     "output_type": "display_data"
    },
    {
     "name": "stdout",
     "output_type": "stream",
     "text": [
      "4\n"
     ]
    }
   ],
   "source": [
    " \n",
    "# create and train prediction model\n",
    "\n",
    "model = A2C('MlpPolicy', env, verbose=1, tensorboard_log=LOG_PATH, device=\"cpu\") \n",
    "\n",
    "name = str(datetime.now().strftime(\"%Y-%d-%m-%H-%M\") )\n",
    "\n",
    "episodes = 5\n",
    "step_count = 1000\n",
    "for i in range (episodes):\n",
    "    model = model.learn(total_timesteps=step_count, \n",
    "    progress_bar=True,\n",
    "    ) \n",
    "    print(i)"
   ]
  },
  {
   "cell_type": "code",
   "execution_count": 9,
   "metadata": {},
   "outputs": [
    {
     "name": "stdout",
     "output_type": "stream",
     "text": [
      "100 582698\n"
     ]
    }
   ],
   "source": [
    "prev_min = 0\n",
    "print(len(df)-lower_bound,len(df))"
   ]
  },
  {
   "cell_type": "code",
   "execution_count": 11,
   "metadata": {},
   "outputs": [
    {
     "name": "stdout",
     "output_type": "stream",
     "text": [
      "past trades:  [[(array(1, dtype=int64), None), ('price: ', 21256.0), ('time: ', datetime.datetime(2022, 11, 5, 10, 25, 2, 558546))], [(array(1, dtype=int64), None), ('price: ', 21262.0), ('time: ', datetime.datetime(2022, 11, 5, 10, 27, 0, 949347))]]\n",
      "made a prediction\n",
      "(array(1, dtype=int64), None)\n",
      "buying  BTC/USD\n",
      "b\n",
      "Logging to ./data\\log\\A2C_51\n",
      "-------------------------------------\n",
      "| time/                 |           |\n",
      "|    fps                | 188       |\n",
      "|    iterations         | 100       |\n",
      "|    time_elapsed       | 2         |\n",
      "|    total_timesteps    | 500       |\n",
      "| train/                |           |\n",
      "|    entropy_loss       | -0.000719 |\n",
      "|    explained_variance | nan       |\n",
      "|    learning_rate      | 0.0007    |\n",
      "|    n_updates          | 14099     |\n",
      "|    policy_loss        | -5.68e-07 |\n",
      "|    value_loss         | 7.03e-05  |\n",
      "-------------------------------------\n"
     ]
    }
   ],
   "source": [
    "past_trades = deque(maxlen=60)\n",
    "cur_min = datetime.now().minute\n",
    "prev_min = 0\n",
    "test_env = Cypto_Env(df=df, window_size=window_size, frame_bound=(lower_bound,upper_bound))\n",
    "wait_time = 1\n",
    "while True:\n",
    "    try:\n",
    "        cur_min = datetime.now().minute\n",
    "        if cur_min > prev_min or cur_min == 1:\n",
    "            cur_min = datetime.now().minute\n",
    "            prev_min = cur_min + wait_time - 1\n",
    "            \n",
    "            df = cm.historical_data_df()\n",
    "\n",
    "            df = add_columns_df(df)\n",
    "\n",
    "            test_env = Cypto_Env(df=df, window_size=window_size, frame_bound=(window_size,upper_bound))\n",
    "            \n",
    "            def return_obs(df):\n",
    "                start = len(df) - window_size\n",
    "                end = len(df)\n",
    "                keys= []\n",
    "                for key in df.columns:\n",
    "                    keys.append(key)\n",
    "                signal_features = df.loc[:, [key for key in keys[1:]]].to_numpy()[start:end]\n",
    "                return signal_features\n",
    "            \n",
    "            obs = return_obs(df)\n",
    "            action = model.predict(obs)\n",
    "            print(\"made a prediction\")\n",
    "            print(action)\n",
    "            if action == 1 or action[0] == 1:\n",
    "                trade_me.buy_position_at_market(\"BTC/USD\")\n",
    "                print(\"b\") \n",
    "            if action == 0 or action[0] == 0:\n",
    "                trade_me.sell_position_market(\"BTCUSD\")\n",
    "                print(\"s\")\n",
    "            past_trades.append([action, (\"price: \", df[\"Low\"].iloc[-1]), (\"time: \", datetime.now())])\n",
    "            for episode in range(episodes):\n",
    "                model = model.learn(total_timesteps=step_count, \n",
    "                )\n",
    "                # model.save(os.path.join(MODEL_PATH, str(time.time()) + \".zip\"))\n",
    "                clear_output()\n",
    "                print(\"past trades: \", list(past_trades))\n",
    "    except Exception as e:\n",
    "        print(e)\n",
    "        for episode in range(episodes):\n",
    "            model = model.learn(total_timesteps=step_count,\n",
    "             )\n",
    "            # model.save(os.path.join(MODEL_PATH, str(time.time()) + \".zip\"))\n",
    "            print(\"past trades: \", list(past_trades))\n",
    "\n"
   ]
  },
  {
   "cell_type": "code",
   "execution_count": null,
   "metadata": {},
   "outputs": [],
   "source": [
    "# Save the Model\n",
    "model.save(os.path.join(MODEL_PATH, str(time.time()) + \".zip\"))"
   ]
  },
  {
   "cell_type": "code",
   "execution_count": null,
   "metadata": {},
   "outputs": [],
   "source": []
  }
 ],
 "metadata": {
  "kernelspec": {
   "display_name": "Python 3.10.8 ('env': venv)",
   "language": "python",
   "name": "python3"
  },
  "language_info": {
   "codemirror_mode": {
    "name": "ipython",
    "version": 3
   },
   "file_extension": ".py",
   "mimetype": "text/x-python",
   "name": "python",
   "nbconvert_exporter": "python",
   "pygments_lexer": "ipython3",
   "version": "3.10.8"
  },
  "orig_nbformat": 4,
  "vscode": {
   "interpreter": {
    "hash": "6156a2a1bf5630dad9cf5e66bd1452cf2374e7c4d6d8b35907c22c2195011763"
   }
  }
 },
 "nbformat": 4,
 "nbformat_minor": 2
}
