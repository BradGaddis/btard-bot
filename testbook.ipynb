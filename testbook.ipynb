{
 "cells": [
  {
   "cell_type": "code",
   "execution_count": 1,
   "metadata": {},
   "outputs": [
    {
     "ename": "SyntaxError",
     "evalue": "expected 'except' or 'finally' block (assetpicker.py, line 257)",
     "output_type": "error",
     "traceback": [
      "Traceback \u001b[1;36m(most recent call last)\u001b[0m:\n",
      "\u001b[0m  File \u001b[0;32m~\\AppData\\Roaming\\Python\\Python310\\site-packages\\IPython\\core\\interactiveshell.py:3378\u001b[0m in \u001b[0;35mrun_code\u001b[0m\n    exec(code_obj, self.user_global_ns, self.user_ns)\u001b[0m\n",
      "\u001b[0m  Cell \u001b[0;32mIn [1], line 17\u001b[0m\n    from trader import trader_agent\u001b[0m\n",
      "\u001b[1;36m  File \u001b[1;32mc:\\dev\\btard-bot\\trader.py:6\u001b[1;36m\n\u001b[1;33m    import assetpicker\u001b[1;36m\n",
      "\u001b[1;36m  File \u001b[1;32mc:\\dev\\btard-bot\\assetpicker.py:257\u001b[1;36m\u001b[0m\n\u001b[1;33m    else:\u001b[0m\n\u001b[1;37m    ^\u001b[0m\n\u001b[1;31mSyntaxError\u001b[0m\u001b[1;31m:\u001b[0m expected 'except' or 'finally' block\n"
     ]
    }
   ],
   "source": [
    "import torch\n",
    "torch.device(\"cuda\")\n",
    "# Gym stuff\n",
    "import gym\n",
    "import gym_anytrading\n",
    "# Stable baselines - rl stuff\n",
    "from stable_baselines3.common.vec_env import DummyVecEnv\n",
    "from stable_baselines3 import A2C, PPO\n",
    "\n",
    "# Processing libraries\n",
    "import numpy as np\n",
    "import pandas as pd\n",
    "from matplotlib import pyplot as plt\n",
    "\n",
    "import pycuda\n",
    "\n",
    "from trader import trader_agent\n",
    "import cryptomanager as cm\n",
    "test = trader_agent()\n",
    "df = cm.historical_data_df(days_delta=1)\n",
    "\n",
    "# df = pd.read_csv(\"data/gmedata.csv\")\n",
    "env = gym.make('forex-v0', df=df, frame_bound=(5,len(df)), window_size=5)\n",
    "df"
   ]
  },
  {
   "cell_type": "code",
   "execution_count": null,
   "metadata": {},
   "outputs": [
    {
     "ename": "AttributeError",
     "evalue": "module 'stable_baselines3.common.utils' has no attribute 'se'",
     "output_type": "error",
     "traceback": [
      "\u001b[1;31m---------------------------------------------------------------------------\u001b[0m",
      "\u001b[1;31mAttributeError\u001b[0m                            Traceback (most recent call last)",
      "Cell \u001b[1;32mIn [9], line 6\u001b[0m\n\u001b[0;32m      3\u001b[0m \u001b[39mimport\u001b[39;00m \u001b[39mos\u001b[39;00m\n\u001b[0;32m      4\u001b[0m \u001b[39mimport\u001b[39;00m \u001b[39mstable_baselines3\u001b[39;00m\u001b[39m.\u001b[39;00m\u001b[39mcommon\u001b[39;00m\u001b[39m.\u001b[39;00m\u001b[39mutils\u001b[39;00m\n\u001b[1;32m----> 6\u001b[0m stable_baselines3\u001b[39m.\u001b[39;49mcommon\u001b[39m.\u001b[39;49mutils\u001b[39m.\u001b[39;49mse\n\u001b[0;32m      8\u001b[0m model \u001b[39m=\u001b[39m A2C(\u001b[39m'\u001b[39m\u001b[39mMlpPolicy\u001b[39m\u001b[39m'\u001b[39m, env, verbose\u001b[39m=\u001b[39m\u001b[39m1\u001b[39m, tensorboard_log\u001b[39m=\u001b[39mLOG_PATH, device\u001b[39m=\u001b[39m\u001b[39m\"\u001b[39m\u001b[39mcuda\u001b[39m\u001b[39m\"\u001b[39m)\n",
      "\u001b[1;31mAttributeError\u001b[0m: module 'stable_baselines3.common.utils' has no attribute 'se'"
     ]
    }
   ],
   "source": [
    "from config import LOG_PATH, MODEL_PATH\n",
    "from datetime import datetime\n",
    "import os\n",
    "import stable_baselines3.common.utils\n",
    "\n",
    "\n",
    "model = A2C('MlpPolicy', env, verbose=1, tensorboard_log=LOG_PATH, device=\"cuda\") \n",
    "# name = str(datetime.now().strftime(\"%Y-%d-%m-%H-%M\") )\n",
    "# print(name)\n",
    "# episodes = 50\n",
    "# step_count = 100000\n",
    "# for i in range (episodes):\n",
    "#     model.learn(total_timesteps=step_count, tb_log_name=f\"A2C - {name}\")\n",
    "#     model.save(f\"{os.path.join(MODEL_PATH , name)} -{i + 1}.zip\")"
   ]
  }
 ],
 "metadata": {
  "kernelspec": {
   "display_name": "Python 3.10.7 64-bit",
   "language": "python",
   "name": "python3"
  },
  "language_info": {
   "codemirror_mode": {
    "name": "ipython",
    "version": 3
   },
   "file_extension": ".py",
   "mimetype": "text/x-python",
   "name": "python",
   "nbconvert_exporter": "python",
   "pygments_lexer": "ipython3",
   "version": "3.10.7"
  },
  "orig_nbformat": 4,
  "vscode": {
   "interpreter": {
    "hash": "244cc08184ff83a1bfec9943f57012f94d5ed29366879e4aec37609543d08a33"
   }
  }
 },
 "nbformat": 4,
 "nbformat_minor": 2
}
