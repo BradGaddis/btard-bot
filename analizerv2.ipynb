{
 "cells": [
  {
   "cell_type": "code",
   "execution_count": null,
   "metadata": {},
   "outputs": [],
   "source": [
    "# from alpaca.trading.client import TradingClient\n",
    "from config import *\n",
    "import pandas as pd\n",
    "from trader import trader_agent\n",
    "from cryptomanager import historical_data_df"
   ]
  },
  {
   "cell_type": "code",
   "execution_count": null,
   "metadata": {},
   "outputs": [],
   "source": [
    "ta = trader_agent()\n",
    "\n",
    "ta.get_all_orders_df()"
   ]
  }
 ],
 "metadata": {
  "language_info": {
   "name": "python"
  },
  "orig_nbformat": 4
 },
 "nbformat": 4,
 "nbformat_minor": 2
}
