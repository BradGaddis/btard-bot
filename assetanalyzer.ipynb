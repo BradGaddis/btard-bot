{
 "cells": [
  {
   "cell_type": "code",
   "execution_count": 1,
   "metadata": {},
   "outputs": [],
   "source": [
    "from alpaca.trading.client import TradingClient\n",
    "from config import *\n",
    "import pandas as pd\n"
   ]
  },
  {
   "cell_type": "code",
   "execution_count": null,
   "metadata": {},
   "outputs": [],
   "source": [
    "trading_client = TradingClient(ALPACA_PAPER_KEY, ALPACA_PAPER_SECRET_KEY)\n",
    "\n",
    "positions = trading_client.get_all_positions()\n",
    "\n",
    "keys = [pos[0] for pos in positions[0]]\n",
    "\n",
    "values = []\n",
    "i = 0\n",
    "for pos in positions:\n",
    "    values.append([])\n",
    "    for tup in pos:\n",
    "        values[i].append((tup[1]))\n",
    "    i += 1\n",
    "\n",
    "pos_df = pd.DataFrame(values, columns=keys)\n",
    "pos_df = pos_df.iloc[:,1:]\n",
    "pos_df\n"
   ]
  }
 ],
 "metadata": {
  "kernelspec": {
   "display_name": "Python 3.10.8 ('env': venv)",
   "language": "python",
   "name": "python3"
  },
  "language_info": {
   "codemirror_mode": {
    "name": "ipython",
    "version": 3
   },
   "file_extension": ".py",
   "mimetype": "text/x-python",
   "name": "python",
   "nbconvert_exporter": "python",
   "pygments_lexer": "ipython3",
   "version": "3.10.8"
  },
  "orig_nbformat": 4,
  "vscode": {
   "interpreter": {
    "hash": "6156a2a1bf5630dad9cf5e66bd1452cf2374e7c4d6d8b35907c22c2195011763"
   }
  }
 },
 "nbformat": 4,
 "nbformat_minor": 2
}
