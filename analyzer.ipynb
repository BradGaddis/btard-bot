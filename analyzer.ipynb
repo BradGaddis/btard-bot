{
 "cells": [
  {
   "cell_type": "code",
   "execution_count": 1,
   "metadata": {},
   "outputs": [],
   "source": [
    "from trader import trader_agent\n",
    "import cryptomanager as cm\n",
    "test = trader_agent()"
   ]
  },
  {
   "cell_type": "code",
   "execution_count": 2,
   "metadata": {},
   "outputs": [
    {
     "name": "stdout",
     "output_type": "stream",
     "text": [
      "['id', 'client_order_id', 'created_at', 'updated_at', 'submitted_at', 'filled_at', 'expired_at', 'canceled_at', 'failed_at', 'replaced_at', 'replaced_by', 'replaces', 'asset_id', 'symbol', 'asset_class', 'notional', 'qty', 'filled_qty', 'filled_avg_price', 'order_class', 'order_type', 'type', 'side', 'time_in_force', 'limit_price', 'stop_price', 'status', 'extended_hours', 'legs', 'trail_percent', 'trail_price', 'hwm']\n",
      "13\n"
     ]
    },
    {
     "data": {
      "text/html": [
       "<div>\n",
       "<style scoped>\n",
       "    .dataframe tbody tr th:only-of-type {\n",
       "        vertical-align: middle;\n",
       "    }\n",
       "\n",
       "    .dataframe tbody tr th {\n",
       "        vertical-align: top;\n",
       "    }\n",
       "\n",
       "    .dataframe thead th {\n",
       "        text-align: right;\n",
       "    }\n",
       "</style>\n",
       "<table border=\"1\" class=\"dataframe\">\n",
       "  <thead>\n",
       "    <tr style=\"text-align: right;\">\n",
       "      <th></th>\n",
       "      <th>symbol</th>\n",
       "      <th>asset_class</th>\n",
       "      <th>notional</th>\n",
       "      <th>qty</th>\n",
       "      <th>filled_qty</th>\n",
       "      <th>filled_avg_price</th>\n",
       "      <th>order_class</th>\n",
       "      <th>order_type</th>\n",
       "      <th>type</th>\n",
       "      <th>side</th>\n",
       "      <th>time_in_force</th>\n",
       "      <th>limit_price</th>\n",
       "      <th>stop_price</th>\n",
       "      <th>status</th>\n",
       "      <th>extended_hours</th>\n",
       "      <th>legs</th>\n",
       "      <th>trail_percent</th>\n",
       "      <th>trail_price</th>\n",
       "      <th>hwm</th>\n",
       "      <th>will_be_day_trade</th>\n",
       "    </tr>\n",
       "  </thead>\n",
       "  <tbody>\n",
       "    <tr>\n",
       "      <th>0</th>\n",
       "      <td>BTC/USD</td>\n",
       "      <td>AssetClass.CRYPTO</td>\n",
       "      <td>1</td>\n",
       "      <td>None</td>\n",
       "      <td>0.000048432</td>\n",
       "      <td>20647.5</td>\n",
       "      <td>OrderClass.SIMPLE</td>\n",
       "      <td>OrderType.MARKET</td>\n",
       "      <td>OrderType.MARKET</td>\n",
       "      <td>OrderSide.BUY</td>\n",
       "      <td>TimeInForce.GTC</td>\n",
       "      <td>None</td>\n",
       "      <td>None</td>\n",
       "      <td>OrderStatus.FILLED</td>\n",
       "      <td>False</td>\n",
       "      <td>None</td>\n",
       "      <td>None</td>\n",
       "      <td>None</td>\n",
       "      <td>None</td>\n",
       "      <td>True</td>\n",
       "    </tr>\n",
       "  </tbody>\n",
       "</table>\n",
       "</div>"
      ],
      "text/plain": [
       "    symbol        asset_class notional   qty   filled_qty filled_avg_price  \\\n",
       "0  BTC/USD  AssetClass.CRYPTO        1  None  0.000048432          20647.5   \n",
       "\n",
       "         order_class        order_type              type           side  \\\n",
       "0  OrderClass.SIMPLE  OrderType.MARKET  OrderType.MARKET  OrderSide.BUY   \n",
       "\n",
       "     time_in_force limit_price stop_price              status  extended_hours  \\\n",
       "0  TimeInForce.GTC        None       None  OrderStatus.FILLED           False   \n",
       "\n",
       "   legs trail_percent trail_price   hwm  will_be_day_trade  \n",
       "0  None          None        None  None               True  "
      ]
     },
     "execution_count": 2,
     "metadata": {},
     "output_type": "execute_result"
    }
   ],
   "source": [
    "test.get_all_orders_df()"
   ]
  },
  {
   "cell_type": "code",
   "execution_count": 3,
   "metadata": {},
   "outputs": [
    {
     "data": {
      "text/html": [
       "<div>\n",
       "<style scoped>\n",
       "    .dataframe tbody tr th:only-of-type {\n",
       "        vertical-align: middle;\n",
       "    }\n",
       "\n",
       "    .dataframe tbody tr th {\n",
       "        vertical-align: top;\n",
       "    }\n",
       "\n",
       "    .dataframe thead th {\n",
       "        text-align: right;\n",
       "    }\n",
       "</style>\n",
       "<table border=\"1\" class=\"dataframe\">\n",
       "  <thead>\n",
       "    <tr style=\"text-align: right;\">\n",
       "      <th></th>\n",
       "      <th>open</th>\n",
       "      <th>high</th>\n",
       "      <th>low</th>\n",
       "      <th>close</th>\n",
       "      <th>volume</th>\n",
       "      <th>trade_count</th>\n",
       "      <th>vwap</th>\n",
       "      <th>BTC/USD</th>\n",
       "    </tr>\n",
       "  </thead>\n",
       "  <tbody>\n",
       "    <tr>\n",
       "      <th>1113</th>\n",
       "      <td>0.0144</td>\n",
       "      <td>0.006431</td>\n",
       "      <td>0.062787</td>\n",
       "      <td>0.032967</td>\n",
       "      <td>0.007113</td>\n",
       "      <td>0.027569</td>\n",
       "      <td>0.046143</td>\n",
       "      <td>1</td>\n",
       "    </tr>\n",
       "  </tbody>\n",
       "</table>\n",
       "</div>"
      ],
      "text/plain": [
       "        open      high       low     close    volume  trade_count      vwap  \\\n",
       "1113  0.0144  0.006431  0.062787  0.032967  0.007113     0.027569  0.046143   \n",
       "\n",
       "      BTC/USD  \n",
       "1113        1  "
      ]
     },
     "execution_count": 3,
     "metadata": {},
     "output_type": "execute_result"
    }
   ],
   "source": [
    "butts = cm.historical_data_df().get_last()\n",
    "\n",
    "butts"
   ]
  }
 ],
 "metadata": {
  "kernelspec": {
   "display_name": "Python 3.10.8 ('env': venv)",
   "language": "python",
   "name": "python3"
  },
  "language_info": {
   "codemirror_mode": {
    "name": "ipython",
    "version": 3
   },
   "file_extension": ".py",
   "mimetype": "text/x-python",
   "name": "python",
   "nbconvert_exporter": "python",
   "pygments_lexer": "ipython3",
   "version": "3.10.8"
  },
  "orig_nbformat": 4,
  "vscode": {
   "interpreter": {
    "hash": "6156a2a1bf5630dad9cf5e66bd1452cf2374e7c4d6d8b35907c22c2195011763"
   }
  }
 },
 "nbformat": 4,
 "nbformat_minor": 2
}
