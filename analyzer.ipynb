{
 "cells": [
  {
   "cell_type": "code",
   "execution_count": null,
   "metadata": {},
   "outputs": [],
   "source": [
    "# Gym stuff\n",
    "import gym\n",
    "import gym_anytrading\n",
    "# Stable baselines - rl stuff\n",
    "from stable_baselines3.common.vec_env import DummyVecEnv\n",
    "from stable_baselines3 import A2C, PPO\n",
    "\n",
    "# Processing libraries\n",
    "import numpy as np\n",
    "import pandas as pd\n",
    "from matplotlib import pyplot as plt\n",
    "\n",
    "from trader import trader_agent\n",
    "import cryptomanager as cm\n",
    "test = trader_agent()"
   ]
  },
  {
   "cell_type": "code",
   "execution_count": null,
   "metadata": {},
   "outputs": [],
   "source": [
    "df = cm.historical_data_df(days_delta=10000)\n",
    "print(df.dtypes)\n",
    "df"
   ]
  },
  {
   "cell_type": "code",
   "execution_count": null,
   "metadata": {},
   "outputs": [],
   "source": [
    "# df = pd.read_csv(\"data/gmedata.csv\")\n",
    "env = gym.make('forex-v0', df=df, frame_bound=(5,len(df)), window_size=5)\n",
    "df"
   ]
  },
  {
   "cell_type": "code",
   "execution_count": null,
   "metadata": {},
   "outputs": [],
   "source": [
    "# Examining the model\n",
    "\n",
    "state = env.reset()\n",
    "while True: \n",
    "    # add a bit of randomness\n",
    "    action = env.action_space.sample()\n",
    "    n_state, reward, done, info = env.step(action)\n",
    "    if done: \n",
    "        print(\"info\", info)\n",
    "        break\n",
    "        \n",
    "plt.figure(figsize=(15,6))\n",
    "plt.cla()\n",
    "env.render_all()\n",
    "plt.show()"
   ]
  },
  {
   "cell_type": "code",
   "execution_count": null,
   "metadata": {},
   "outputs": [],
   "source": [
    "!pip install finta"
   ]
  },
  {
   "cell_type": "code",
   "execution_count": null,
   "metadata": {},
   "outputs": [],
   "source": [
    "from gym_anytrading.envs import StocksEnv\n",
    "from finta import TA"
   ]
  },
  {
   "cell_type": "code",
   "execution_count": null,
   "metadata": {},
   "outputs": [],
   "source": [
    "# df['OBV'] = TA.OBV(df)\n",
    "df['EMA'] = TA.EMA(df, 200)\n",
    "df['RSI'] = TA.RSI(df)\n",
    "df.fillna(0, inplace=True)\n",
    "df = df.join(TA.MACD(df))\n",
    "df"
   ]
  },
  {
   "cell_type": "code",
   "execution_count": null,
   "metadata": {},
   "outputs": [],
   "source": [
    "df.head(15)"
   ]
  },
  {
   "cell_type": "code",
   "execution_count": null,
   "metadata": {},
   "outputs": [],
   "source": [
    "def add_signals(env):\n",
    "    start = env.frame_bound[0] - env.window_size\n",
    "    end = env.frame_bound[1]\n",
    "    prices = env.df.loc[:, 'Low'].to_numpy()[start:end]\n",
    "    signal_features = env.df.loc[:, ['Low','EMA',\"MACD\",\"SIGNAL\", 'RSI']].to_numpy()[start:end]\n",
    "    return prices, signal_features"
   ]
  },
  {
   "cell_type": "code",
   "execution_count": null,
   "metadata": {},
   "outputs": [],
   "source": [
    "\n",
    "class Cypto_Env(ForexEnv):\n",
    "    _process_data = add_signals\n",
    "    \n",
    "env2 = Cypto_Env(df=df, window_size=12, frame_bound=(12,len(df)))"
   ]
  },
  {
   "cell_type": "code",
   "execution_count": null,
   "metadata": {},
   "outputs": [],
   "source": [
    "env2.signal_features"
   ]
  },
  {
   "cell_type": "code",
   "execution_count": null,
   "metadata": {},
   "outputs": [],
   "source": [
    "df.head()"
   ]
  },
  {
   "cell_type": "code",
   "execution_count": null,
   "metadata": {},
   "outputs": [],
   "source": [
    "env_maker = lambda: env2\n",
    "env = DummyVecEnv([env_maker])"
   ]
  },
  {
   "cell_type": "code",
   "execution_count": null,
   "metadata": {},
   "outputs": [],
   "source": [
    "from config import LOG_PATH, MODEL_PATH\n",
    "from datetime import datetime\n",
    "import os\n",
    " \n",
    "model = A2C('MlpPolicy', env, verbose=1, tensorboard_log=LOG_PATH) \n",
    "model.device = \"cuda\"\n",
    "name = str(datetime.now().strftime(\"%Y-%d-%m-%H-%M\") )\n",
    "print(name)\n",
    "episodes = 50\n",
    "step_count = 100000\n",
    "for i in range (episodes):\n",
    "    model.learn(total_timesteps=step_count, tb_log_name=f\"A2C - {name}\")\n",
    "    model.save(f\"{os.path.join(MODEL_PATH , name)} -{i + 1}.zip\")"
   ]
  },
  {
   "cell_type": "code",
   "execution_count": null,
   "metadata": {},
   "outputs": [],
   "source": [
    "from IPython.display import clear_output\n",
    "from trader import  trader_agent\n",
    "import time\n",
    "import os\n",
    "trade_me = trader_agent()\n",
    "prev_min = 0\n",
    "clear = lambda: os.system('cls')\n",
    "\n",
    "# clear()\n",
    "df\n",
    "env = Cypto_Env(df=df, window_size=12, frame_bound=(len(df)-5,len(df)))\n",
    "obs = env.reset()\n",
    "while True: \n",
    "    try:\n",
    "        cur_min = datetime.now().minute\n",
    "        if cur_min > prev_min or cur_min == 1:\n",
    "            df = cm.historical_data_df()\n",
    "            df = df.loc[-5:]\n",
    "            df['EMA'] = TA.EMA(df, 200)\n",
    "            df['RSI'] = TA.RSI(df)\n",
    "            df.fillna(0, inplace=True)\n",
    "            df = df.join(TA.MACD(df))\n",
    "            prev_min = cur_min\n",
    "            env.df = df\n",
    "            obs = env.reset()\n",
    "\n",
    "            obs = obs[np.newaxis, ...]\n",
    "            # print(\"1\", obs)\n",
    "            action, _states = model.predict(obs)\n",
    "            # print(_states)\n",
    "            if action == 1:\n",
    "                trade_me.buy_position_at_market(\"BTC/USD\")\n",
    "                # print(\"b\")\n",
    "            else:\n",
    "                trade_me.sell_position_market(\"BTCUSD\")\n",
    "                # print(\"s\")\n",
    "            obs, rewards, done, info = env.step(action)\n",
    "            # print(\"2\",obs)\n",
    "            print(info)\n",
    "            # clear_output()\n",
    "    except:\n",
    "        print(\"info\", info)\n",
    "        plt.figure(figsize=(10,6))\n",
    "        plt.cla()\n",
    "        env.render_all()\n",
    "        plt.show()"
   ]
  },
  {
   "cell_type": "code",
   "execution_count": null,
   "metadata": {},
   "outputs": [],
   "source": [
    "plt.figure(figsize=(15,6))\n",
    "plt.cla()\n",
    "env.render_all()\n",
    "plt.show()"
   ]
  }
 ],
 "metadata": {
  "kernelspec": {
   "display_name": "Python 3.10.7 64-bit",
   "language": "python",
   "name": "python3"
  },
  "language_info": {
   "codemirror_mode": {
    "name": "ipython",
    "version": 3
   },
   "file_extension": ".py",
   "mimetype": "text/x-python",
   "name": "python",
   "nbconvert_exporter": "python",
   "pygments_lexer": "ipython3",
   "version": "3.10.7"
  },
  "orig_nbformat": 4,
  "vscode": {
   "interpreter": {
    "hash": "244cc08184ff83a1bfec9943f57012f94d5ed29366879e4aec37609543d08a33"
   }
  }
 },
 "nbformat": 4,
 "nbformat_minor": 2
}
