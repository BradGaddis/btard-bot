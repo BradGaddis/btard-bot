{
 "cells": [
  {
   "cell_type": "code",
   "execution_count": 1,
   "metadata": {},
   "outputs": [],
   "source": [
    "# Gym stuff\n",
    "import gym\n",
    "import gym_anytrading\n",
    "from gym_anytrading.envs import StocksEnv, ForexEnv\n",
    "\n",
    "\n",
    "# Stable baselines - rl stuff\n",
    "from stable_baselines3.common.vec_env import DummyVecEnv\n",
    "from stable_baselines3 import A2C, PPO\n",
    "\n",
    "# Technicals\n",
    "from finta import TA\n",
    "\n",
    "# Processing libraries\n",
    "import numpy as np\n",
    "import pandas as pd\n",
    "from matplotlib import pyplot as plt\n",
    "\n",
    "\n",
    "# Project Modules\n",
    "from collections import deque\n",
    "from config import LOG_PATH, MODEL_PATH\n",
    "import cryptomanager as cm\n",
    "from datetime import datetime\n",
    "from IPython.display import clear_output\n",
    "import os\n",
    "import time\n",
    "from trader import trader_agent\n",
    "\n",
    "# The class that will do the work of trading\n",
    "trade_me = trader_agent()"
   ]
  },
  {
   "cell_type": "code",
   "execution_count": null,
   "metadata": {},
   "outputs": [],
   "source": [
    "# Initial DataFrame to train on\n",
    "df = cm.historical_data_df(days_delta=10000)\n",
    "df"
   ]
  },
  {
   "cell_type": "code",
   "execution_count": null,
   "metadata": {},
   "outputs": [],
   "source": [
    "# The range that we want to train on each interval\n",
    "window_size = 100\n",
    "lower_bound = len(df) - window_size\n",
    "upper_bound = len(df)\n",
    "df[lower_bound:upper_bound]"
   ]
  },
  {
   "cell_type": "code",
   "execution_count": null,
   "metadata": {},
   "outputs": [],
   "source": [
    "# Adding technicals to DataFrame\n",
    "\n",
    "def add_columns_df(df):\n",
    "    df['OBV'] = TA.OBV(df) # unsure if I want to use this yet or not\n",
    "    df['EMA'] = TA.EMA(df, 200)\n",
    "    df['RSI'] = TA.RSI(df)\n",
    "    df  = df.join(TA.PIVOT_FIB(df))\n",
    "    df = df.join(TA.MACD(df))\n",
    "    df.fillna(0, inplace=True)\n",
    "    return df\n",
    "    \n",
    "df = add_columns_df(df)\n",
    "df.head()"
   ]
  },
  {
   "cell_type": "code",
   "execution_count": null,
   "metadata": {},
   "outputs": [],
   "source": [
    "# Adding metrics to Env\n",
    "\n",
    "def add_signals(env, df = df):\n",
    "    start = env.frame_bound[0] - env.window_size\n",
    "    end = env.frame_bound[1]\n",
    "    prices = env.df.loc[:, 'Low'].to_numpy()[start:end]\n",
    "    keys= []\n",
    "    for key in df.columns:\n",
    "        keys.append(key)\n",
    "    signal_features = env.df.loc[:, [key for key in keys[1:]]].to_numpy()[start:end]\n",
    "    return prices, signal_features"
   ]
  },
  {
   "cell_type": "code",
   "execution_count": null,
   "metadata": {},
   "outputs": [],
   "source": [
    "class Cypto_Env(StocksEnv):\n",
    "    _process_data = add_signals\n",
    "    "
   ]
  },
  {
   "cell_type": "code",
   "execution_count": null,
   "metadata": {},
   "outputs": [],
   "source": [
    "# The initial training Env before we swtich to up-to-date Env\n",
    "\n",
    "env2 = Cypto_Env(df=df, window_size=window_size, frame_bound=(lower_bound,upper_bound))\n",
    "env_maker = lambda: env2\n",
    "env = DummyVecEnv([env_maker])"
   ]
  },
  {
   "cell_type": "code",
   "execution_count": null,
   "metadata": {},
   "outputs": [],
   "source": [
    " \n",
    "# create and train prediction model\n",
    "\n",
    "model = A2C('MlpPolicy', env, verbose=1, tensorboard_log=LOG_PATH, device=\"cpu\") \n",
    "\n",
    "name = str(datetime.now().strftime(\"%Y-%d-%m-%H-%M\") )\n",
    "\n",
    "episodes = 5\n",
    "step_count = 1000\n",
    "for i in range (episodes):\n",
    "    model = model.learn(total_timesteps=step_count, \n",
    "    progress_bar=True,\n",
    "    ) \n",
    "    print(i)"
   ]
  },
  {
   "cell_type": "code",
   "execution_count": null,
   "metadata": {},
   "outputs": [],
   "source": [
    "prev_min = 0\n",
    "print(len(df)-lower_bound,len(df))"
   ]
  },
  {
   "cell_type": "code",
   "execution_count": null,
   "metadata": {},
   "outputs": [],
   "source": [
    "# past_trades = deque(maxlen=60)\n",
    "# cur_min = datetime.now().minute\n",
    "# prev_min = 0\n",
    "# test_env = Cypto_Env(df=df, window_size=window_size, frame_bound=(lower_bound,upper_bound))\n",
    "# wait_time = 1\n",
    "# while True:\n",
    "#     try:\n",
    "#         cur_min = datetime.now().minute\n",
    "#         if cur_min > prev_min or cur_min == 1:\n",
    "#             cur_min = datetime.now().minute\n",
    "#             prev_min = cur_min + wait_time - 1\n",
    "            \n",
    "#             df = cm.historical_data_df()\n",
    "\n",
    "#             df = add_columns_df(df)\n",
    "\n",
    "#             test_env = Cypto_Env(df=df, window_size=window_size, frame_bound=(window_size,upper_bound))\n",
    "            \n",
    "#             def return_obs(df):\n",
    "#                 start = len(df) - window_size\n",
    "#                 end = len(df)\n",
    "#                 keys= []\n",
    "#                 for key in df.columns:\n",
    "#                     keys.append(key)\n",
    "#                 signal_features = df.loc[:, [key for key in keys[1:]]].to_numpy()[start:end]\n",
    "#                 return signal_features\n",
    "            \n",
    "#             obs = return_obs(df)\n",
    "#             action = model.predict(obs)\n",
    "#             print(\"made a prediction\")\n",
    "#             print(action)\n",
    "#             if action == 1 or action[0] == 1:\n",
    "#                 trade_me.buy_position_at_market(\"BTC/USD\")\n",
    "#                 print(\"b\") \n",
    "#             if action == 0 or action[0] == 0:\n",
    "#                 trade_me.sell_position_market(\"BTCUSD\")\n",
    "#                 print(\"s\")\n",
    "#             past_trades.append([action, (\"price: \", df[\"Low\"].iloc[-1]), (\"time: \", datetime.now())])\n",
    "#             for episode in range(episodes):\n",
    "#                 model = model.learn(total_timesteps=step_count, \n",
    "#                 )\n",
    "#                 # model.save(os.path.join(MODEL_PATH, str(time.time()) + \".zip\"))\n",
    "#                 clear_output()\n",
    "#                 print(\"past trades: \", list(past_trades))\n",
    "#     except Exception as e:\n",
    "#         print(e)\n",
    "#         for episode in range(episodes):\n",
    "#             model = model.learn(total_timesteps=step_count,\n",
    "#              )\n",
    "#             # model.save(os.path.join(MODEL_PATH, str(time.time()) + \".zip\"))\n",
    "#             print(\"past trades: \", list(past_trades))\n",
    "\n"
   ]
  },
  {
   "cell_type": "code",
   "execution_count": null,
   "metadata": {},
   "outputs": [],
   "source": [
    "# Save the Model\n",
    "# model.save(os.path.join(MODEL_PATH, str(time.time()) + \".zip\"))"
   ]
  },
  {
   "cell_type": "code",
   "execution_count": 13,
   "metadata": {},
   "outputs": [
    {
     "data": {
      "text/plain": [
       "23"
      ]
     },
     "execution_count": 13,
     "metadata": {},
     "output_type": "execute_result"
    }
   ],
   "source": [
    "# Get all USD Crypto tradable on Alpaca\n",
    "\n",
    "def Crypto_USD() -> list:\n",
    "    output = []\n",
    "    cryptos = cm.get_cryptos_tradable()\n",
    "    for crypto in cryptos:\n",
    "        if crypto.split(\"/\")[1] == \"USD\":\n",
    "            output.append(crypto)\n",
    "    return output\n",
    "\n",
    "usd = Crypto_USD()\n",
    "\n",
    "usd.pop(usd.index(\"BTC/USD\"))\n"
   ]
  }
 ],
 "metadata": {
  "kernelspec": {
   "display_name": "Python 3.10.8 ('env': venv)",
   "language": "python",
   "name": "python3"
  },
  "language_info": {
   "codemirror_mode": {
    "name": "ipython",
    "version": 3
   },
   "file_extension": ".py",
   "mimetype": "text/x-python",
   "name": "python",
   "nbconvert_exporter": "python",
   "pygments_lexer": "ipython3",
   "version": "3.10.8"
  },
  "orig_nbformat": 4,
  "vscode": {
   "interpreter": {
    "hash": "6156a2a1bf5630dad9cf5e66bd1452cf2374e7c4d6d8b35907c22c2195011763"
   }
  }
 },
 "nbformat": 4,
 "nbformat_minor": 2
}
