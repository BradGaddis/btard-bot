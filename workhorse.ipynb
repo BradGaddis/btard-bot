{
 "cells": [
  {
   "cell_type": "code",
   "execution_count": 1,
   "metadata": {},
   "outputs": [
    {
     "name": "stdout",
     "output_type": "stream",
     "text": [
      "Successfully retrieved information for IRBT. Count: 1/85\n",
      "Successfully retrieved information for IRBO. Count: 1/36\n",
      "Successfully retrieved information for IRT. Count: 1/72\n",
      "Successfully retrieved information for DTW. Count: 1/19\n",
      "Successfully retrieved information for IR. Count: 1/92\n",
      "Successfully retrieved information for DUDE. Count: 1/35\n",
      "Successfully retrieved information for DUG. Count: 1/37\n",
      "Successfully retrieved information for DUK. Count: 1/93\n",
      "Successfully retrieved information for DUKB. Count: 1/18\n"
     ]
    }
   ],
   "source": [
    "import find_assets\n",
    "import pandas as pd\n",
    "\n",
    "# Use the check_asset method to retrieve information about the assets\n",
    "asset_info = find_assets.check_all_assets()\n",
    "\n",
    "# asset_info[0], asset_info[1]"
   ]
  }
 ],
 "metadata": {
  "kernelspec": {
   "display_name": "Python 3.10.7 ('env': venv)",
   "language": "python",
   "name": "python3"
  },
  "language_info": {
   "codemirror_mode": {
    "name": "ipython",
    "version": 3
   },
   "file_extension": ".py",
   "mimetype": "text/x-python",
   "name": "python",
   "nbconvert_exporter": "python",
   "pygments_lexer": "ipython3",
   "version": "3.10.7"
  },
  "orig_nbformat": 4,
  "vscode": {
   "interpreter": {
    "hash": "559fe843a7ddeb602add6c99256b720f6fb1333d980503a4cc2e9756f292d6dd"
   }
  }
 },
 "nbformat": 4,
 "nbformat_minor": 2
}
